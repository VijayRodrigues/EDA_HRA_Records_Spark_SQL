{
 "cells": [
  {
   "cell_type": "markdown",
   "id": "11f2c50b",
   "metadata": {},
   "source": [
    "### Import Libraries"
   ]
  },
  {
   "cell_type": "code",
   "execution_count": 1,
   "id": "69ed0b01",
   "metadata": {},
   "outputs": [
    {
     "name": "stderr",
     "output_type": "stream",
     "text": [
      "WARNING:root:Found pyspark version \"3.2.2\" installed. The pyspark version 3.2 and above has a built-in \"pandas APIs on Spark\" module ported from Koalas. Try `import pyspark.pandas as ps` instead. \n",
      "WARNING:root:'PYARROW_IGNORE_TIMEZONE' environment variable was not set. It is required to set this environment variable to '1' in both driver and executor sides if you use pyarrow>=2.0.0. Koalas will set it for you but it does not work if there is a Spark context already launched.\n"
     ]
    }
   ],
   "source": [
    "#import necessary libraries\n",
    "import gc\n",
    "import pandas as pd\n",
    "pd.set_option('display.max_columns', None)\n",
    "\n",
    "import numpy as np\n",
    "from pandas import pivot\n",
    "from pandas import Timestamp\n",
    "\n",
    "import warnings\n",
    "warnings.filterwarnings(\"ignore\")\n",
    "\n",
    "import findspark\n",
    "findspark.init()\n",
    "\n",
    "import pyspark\n",
    "import databricks.koalas as ks\n",
    "from pyspark.sql import SparkSession\n",
    "\n",
    "from pyspark.sql.functions import *\n",
    "from pyspark.sql.types import *"
   ]
  },
  {
   "cell_type": "markdown",
   "id": "9d9ebba1",
   "metadata": {},
   "source": [
    "### Define Spark Configuration"
   ]
  },
  {
   "cell_type": "code",
   "execution_count": 2,
   "id": "d994411f",
   "metadata": {},
   "outputs": [],
   "source": [
    "spark = SparkSession.builder \\\n",
    "                    .appName('SparkODBC') \\\n",
    "                    .master('local[*]') \\\n",
    "                    .config('spark.sql.execution.arrow.pyspark.enabled', True) \\\n",
    "                    .config('spark.sql.session.timeZone', 'UTC') \\\n",
    "                    .config('spark.driver.memory','32G') \\\n",
    "                    .config('spark.ui.showConsoleProgress', True) \\\n",
    "                    .config('spark.sql.repl.eagerEval.enabled', True) \\\n",
    "                    .getOrCreate()"
   ]
  },
  {
   "cell_type": "code",
   "execution_count": 3,
   "id": "184d70a9",
   "metadata": {},
   "outputs": [
    {
     "data": {
      "text/html": [
       "\n",
       "            <div>\n",
       "                <p><b>SparkSession - in-memory</b></p>\n",
       "                \n",
       "        <div>\n",
       "            <p><b>SparkContext</b></p>\n",
       "\n",
       "            <p><a href=\"http://LAPTOP-N2QTQTD1:4040\">Spark UI</a></p>\n",
       "\n",
       "            <dl>\n",
       "              <dt>Version</dt>\n",
       "                <dd><code>v3.2.2</code></dd>\n",
       "              <dt>Master</dt>\n",
       "                <dd><code>local[*]</code></dd>\n",
       "              <dt>AppName</dt>\n",
       "                <dd><code>SparkODBC</code></dd>\n",
       "            </dl>\n",
       "        </div>\n",
       "        \n",
       "            </div>\n",
       "        "
      ],
      "text/plain": [
       "<pyspark.sql.session.SparkSession at 0x1834e6927f0>"
      ]
     },
     "execution_count": 3,
     "metadata": {},
     "output_type": "execute_result"
    }
   ],
   "source": [
    "spark"
   ]
  },
  {
   "cell_type": "markdown",
   "id": "b758a3e8",
   "metadata": {},
   "source": [
    "### Define Schema - based on the actual table"
   ]
  },
  {
   "cell_type": "code",
   "execution_count": 4,
   "id": "c7c42d05",
   "metadata": {},
   "outputs": [],
   "source": [
    "HraRecords_schema = StructType([StructField(\"Age\", StringType(), True),\\\n",
    "                                StructField(\"Attrition\", StringType(), True),\\\n",
    "                                StructField(\"BusinessTravel\", StringType(), True),\\\n",
    "                                StructField(\"DailyRate\", FloatType(), True),\\\n",
    "                                StructField(\"Department\", StringType(), True),\\\n",
    "                                StructField(\"DistanceFromHome\", StringType(), True),\\\n",
    "                                StructField(\"Education\", StringType(), True),\\\n",
    "                                StructField(\"EducationField\", StringType(), True),\\\n",
    "                                StructField(\"EmployeeCount\", StringType(), True),\\\n",
    "                                StructField(\"EmployeeNumber\", StringType(), True),\\\n",
    "                                StructField(\"EnvironmentSatisfaction\", StringType(), True),\\\n",
    "                                StructField(\"Gender\", StringType(), True),\\\n",
    "                                StructField(\"HourlyRate\", FloatType(), True),\\\n",
    "                                StructField(\"JobInvolvement\", StringType(), True),\\\n",
    "                                StructField(\"JobLevel\", StringType(), True),\\\n",
    "                                StructField(\"JobRole\", StringType(), True),\\\n",
    "                                StructField(\"JobSatisfaction\", StringType(), True),\\\n",
    "                                StructField(\"MaritalStatus\", StringType(), True),\\\n",
    "                                StructField(\"MonthlyIncome\", FloatType(), True),\\\n",
    "                                StructField(\"MonthlyRate\", FloatType(), True),\\\n",
    "                                StructField(\"NumCompaniesWorked\", StringType(), True),\\\n",
    "                                StructField(\"Over18\", StringType(), True),\\\n",
    "                                StructField(\"OverTime\", StringType(), True),\\\n",
    "                                StructField(\"PercentSalaryHike\", FloatType(), True),\\\n",
    "                                StructField(\"PerformanceRating\", StringType(), True),\\\n",
    "                                StructField(\"RelationshipSatisfaction\", StringType(), True),\\\n",
    "                                StructField(\"StandardHours\", StringType(), True),\\\n",
    "                                StructField(\"StockOptionLevel\", StringType(), True),\\\n",
    "                                StructField(\"TotalWorkingYears\", StringType(), True),\\\n",
    "                                StructField(\"TrainingTimesLastYear\", StringType(), True),\\\n",
    "                                StructField(\"WorkLifeBalance\", StringType(), True),\\\n",
    "                                StructField(\"YearsAtCompany\", StringType(), True),\\\n",
    "                                StructField(\"YearsInCurrentRole\", StringType(), True),\\\n",
    "                                StructField(\"YearsSinceLastPromotion\", StringType(), True),\\\n",
    "                                StructField(\"YearsWithCurrManager\", StringType(), True)])\n"
   ]
  },
  {
   "cell_type": "markdown",
   "id": "b2bb7eca",
   "metadata": {},
   "source": [
    "### Define - Driver details in PyODBC"
   ]
  },
  {
   "cell_type": "code",
   "execution_count": 5,
   "id": "8444ab0d",
   "metadata": {},
   "outputs": [],
   "source": [
    "import pandas as pd\n",
    "import pyodbc \n",
    "\n",
    "conn = pyodbc.connect('Driver={SQL Server};'\n",
    "                      'Server=LAPTOP-N2QTQTD1;'\n",
    "                      'Database=EMP_DETAILS;'\n",
    "                      'Trusted_Connection=yes;')"
   ]
  },
  {
   "cell_type": "markdown",
   "id": "8ea61771",
   "metadata": {},
   "source": [
    "### Define the Query to be run"
   ]
  },
  {
   "cell_type": "code",
   "execution_count": 6,
   "id": "79cb6a01",
   "metadata": {},
   "outputs": [],
   "source": [
    "query = '''SELECT * FROM [EMP_DETAILS].[dbo].[HRA_Records]'''"
   ]
  },
  {
   "cell_type": "markdown",
   "id": "5ae5fed9",
   "metadata": {},
   "source": [
    "### Download data from SQL Server in chunks of 1 Million and save the results to a Spakr Dataframe as shown below"
   ]
  },
  {
   "cell_type": "code",
   "execution_count": 7,
   "id": "f548f18f",
   "metadata": {},
   "outputs": [],
   "source": [
    "#########################################################################################\n",
    "\n",
    "dfs = []\n",
    "for chunk in pd.read_sql_query(query, con=conn, chunksize=1000000):\n",
    "    dfs.append(chunk)\n",
    "    \n",
    "HRA_Records = spark.createDataFrame(pd.concat(dfs), schema=HraRecords_schema)\n",
    "\n",
    "#########################################################################################"
   ]
  },
  {
   "cell_type": "code",
   "execution_count": 8,
   "id": "32c96cd4",
   "metadata": {},
   "outputs": [
    {
     "data": {
      "text/html": [
       "<table border='1'>\n",
       "<tr><th>Age</th><th>Attrition</th><th>BusinessTravel</th><th>DailyRate</th><th>Department</th><th>DistanceFromHome</th><th>Education</th><th>EducationField</th><th>EmployeeCount</th><th>EmployeeNumber</th><th>EnvironmentSatisfaction</th><th>Gender</th><th>HourlyRate</th><th>JobInvolvement</th><th>JobLevel</th><th>JobRole</th><th>JobSatisfaction</th><th>MaritalStatus</th><th>MonthlyIncome</th><th>MonthlyRate</th><th>NumCompaniesWorked</th><th>Over18</th><th>OverTime</th><th>PercentSalaryHike</th><th>PerformanceRating</th><th>RelationshipSatisfaction</th><th>StandardHours</th><th>StockOptionLevel</th><th>TotalWorkingYears</th><th>TrainingTimesLastYear</th><th>WorkLifeBalance</th><th>YearsAtCompany</th><th>YearsInCurrentRole</th><th>YearsSinceLastPromotion</th><th>YearsWithCurrManager</th></tr>\n",
       "<tr><td>42</td><td>Yes</td><td>Travel_Frequently</td><td>130.0</td><td>Hardware</td><td>35</td><td>4</td><td>Other</td><td>1</td><td>903</td><td>3</td><td>Male</td><td>91.0</td><td>1</td><td>4</td><td>Sales Representative</td><td>4</td><td>Single</td><td>10890.0</td><td>43560.0</td><td>1</td><td>Y</td><td>Yes</td><td>36.0</td><td>1</td><td>3</td><td>80</td><td>3</td><td>30</td><td>2</td><td>4</td><td>9</td><td>9</td><td>2</td><td>3</td></tr>\n",
       "<tr><td>47</td><td>No</td><td>Non-Travel</td><td>460.0</td><td>Sales</td><td>39</td><td>3</td><td>Other</td><td>1</td><td>904</td><td>3</td><td>Male</td><td>108.0</td><td>2</td><td>5</td><td>Healthcare Repres...</td><td>3</td><td>Single</td><td>40869.0</td><td>899118.0</td><td>4</td><td>Y</td><td>No</td><td>3.0</td><td>4</td><td>4</td><td>80</td><td>3</td><td>30</td><td>2</td><td>1</td><td>14</td><td>9</td><td>13</td><td>2</td></tr>\n",
       "<tr><td>28</td><td>Yes</td><td>Travel_Rarely</td><td>430.0</td><td>Support</td><td>20</td><td>5</td><td>Life Sciences</td><td>1</td><td>905</td><td>3</td><td>Male</td><td>144.0</td><td>1</td><td>1</td><td>Sales Representative</td><td>4</td><td>Married</td><td>14550.0</td><td>421950.0</td><td>4</td><td>Y</td><td>Yes</td><td>43.0</td><td>2</td><td>1</td><td>80</td><td>2</td><td>7</td><td>1</td><td>2</td><td>4</td><td>4</td><td>1</td><td>3</td></tr>\n",
       "<tr><td>28</td><td>Yes</td><td>Travel_Frequently</td><td>1486.0</td><td>Human Resources</td><td>5</td><td>1</td><td>Human Resources</td><td>1</td><td>906</td><td>4</td><td>Male</td><td>176.0</td><td>1</td><td>3</td><td>Sales Representative</td><td>3</td><td>Single</td><td>12777.0</td><td>63885.0</td><td>4</td><td>Y</td><td>Yes</td><td>25.0</td><td>4</td><td>4</td><td>80</td><td>2</td><td>31</td><td>5</td><td>2</td><td>5</td><td>4</td><td>4</td><td>1</td></tr>\n",
       "<tr><td>28</td><td>Yes</td><td>Non-Travel</td><td>966.0</td><td>Human Resources</td><td>30</td><td>5</td><td>Medical</td><td>1</td><td>907</td><td>1</td><td>Male</td><td>200.0</td><td>2</td><td>2</td><td>Research Scientist</td><td>4</td><td>Divorced</td><td>23833.0</td><td>643491.0</td><td>0</td><td>Y</td><td>Yes</td><td>34.0</td><td>1</td><td>4</td><td>80</td><td>4</td><td>29</td><td>5</td><td>4</td><td>17</td><td>15</td><td>4</td><td>16</td></tr>\n",
       "<tr><td>31</td><td>No</td><td>Non-Travel</td><td>1129.0</td><td>Human Resources</td><td>21</td><td>4</td><td>Human Resources</td><td>1</td><td>908</td><td>4</td><td>Male</td><td>116.0</td><td>4</td><td>4</td><td>Research Director</td><td>3</td><td>Married</td><td>37259.0</td><td>37259.0</td><td>1</td><td>Y</td><td>Yes</td><td>4.0</td><td>2</td><td>1</td><td>80</td><td>3</td><td>11</td><td>4</td><td>4</td><td>1</td><td>1</td><td>1</td><td>1</td></tr>\n",
       "<tr><td>32</td><td>No</td><td>Non-Travel</td><td>601.0</td><td>Research &amp; Develo...</td><td>32</td><td>3</td><td>Technical Degree</td><td>1</td><td>909</td><td>2</td><td>Male</td><td>95.0</td><td>2</td><td>1</td><td>Healthcare Repres...</td><td>4</td><td>Married</td><td>27389.0</td><td>520391.0</td><td>8</td><td>Y</td><td>No</td><td>21.0</td><td>3</td><td>4</td><td>80</td><td>3</td><td>11</td><td>4</td><td>4</td><td>4</td><td>3</td><td>4</td><td>4</td></tr>\n",
       "<tr><td>38</td><td>No</td><td>Non-Travel</td><td>205.0</td><td>Research &amp; Develo...</td><td>42</td><td>1</td><td>Other</td><td>1</td><td>910</td><td>4</td><td>Male</td><td>127.0</td><td>4</td><td>4</td><td>Manager</td><td>2</td><td>Divorced</td><td>5291.0</td><td>153439.0</td><td>6</td><td>Y</td><td>Yes</td><td>33.0</td><td>4</td><td>4</td><td>80</td><td>1</td><td>32</td><td>4</td><td>1</td><td>5</td><td>2</td><td>4</td><td>4</td></tr>\n",
       "<tr><td>59</td><td>No</td><td>Non-Travel</td><td>998.0</td><td>Human Resources</td><td>46</td><td>5</td><td>Other</td><td>1</td><td>911</td><td>2</td><td>Female</td><td>35.0</td><td>3</td><td>2</td><td>Developer</td><td>2</td><td>Married</td><td>37358.0</td><td>410938.0</td><td>5</td><td>Y</td><td>Yes</td><td>27.0</td><td>4</td><td>4</td><td>80</td><td>1</td><td>17</td><td>3</td><td>2</td><td>14</td><td>4</td><td>10</td><td>8</td></tr>\n",
       "<tr><td>29</td><td>Yes</td><td>Non-Travel</td><td>143.0</td><td>Sales</td><td>45</td><td>1</td><td>Marketing</td><td>1</td><td>912</td><td>2</td><td>Female</td><td>37.0</td><td>4</td><td>4</td><td>Healthcare Repres...</td><td>3</td><td>Divorced</td><td>11865.0</td><td>201705.0</td><td>2</td><td>Y</td><td>Yes</td><td>42.0</td><td>3</td><td>4</td><td>80</td><td>4</td><td>33</td><td>5</td><td>3</td><td>6</td><td>1</td><td>3</td><td>5</td></tr>\n",
       "<tr><td>23</td><td>No</td><td>Travel_Rarely</td><td>768.0</td><td>Research &amp; Develo...</td><td>19</td><td>5</td><td>Medical</td><td>1</td><td>913</td><td>3</td><td>Female</td><td>127.0</td><td>2</td><td>4</td><td>Research Scientist</td><td>3</td><td>Married</td><td>38367.0</td><td>690606.0</td><td>7</td><td>Y</td><td>Yes</td><td>14.0</td><td>2</td><td>3</td><td>80</td><td>2</td><td>11</td><td>2</td><td>2</td><td>7</td><td>3</td><td>2</td><td>3</td></tr>\n",
       "<tr><td>58</td><td>No</td><td>Travel_Rarely</td><td>755.0</td><td>Support</td><td>25</td><td>5</td><td>Medical</td><td>1</td><td>914</td><td>1</td><td>Male</td><td>162.0</td><td>4</td><td>4</td><td>Manager</td><td>2</td><td>Single</td><td>36536.0</td><td>255752.0</td><td>2</td><td>Y</td><td>Yes</td><td>23.0</td><td>1</td><td>2</td><td>80</td><td>3</td><td>16</td><td>4</td><td>2</td><td>9</td><td>1</td><td>3</td><td>2</td></tr>\n",
       "<tr><td>59</td><td>No</td><td>Travel_Frequently</td><td>1026.0</td><td>Human Resources</td><td>8</td><td>4</td><td>Life Sciences</td><td>1</td><td>915</td><td>3</td><td>Female</td><td>71.0</td><td>3</td><td>2</td><td>Laboratory Techni...</td><td>1</td><td>Married</td><td>11727.0</td><td>23454.0</td><td>6</td><td>Y</td><td>Yes</td><td>33.0</td><td>3</td><td>4</td><td>80</td><td>4</td><td>3</td><td>5</td><td>1</td><td>3</td><td>2</td><td>3</td><td>3</td></tr>\n",
       "<tr><td>41</td><td>No</td><td>Non-Travel</td><td>522.0</td><td>Sales</td><td>26</td><td>1</td><td>Marketing</td><td>1</td><td>916</td><td>4</td><td>Female</td><td>86.0</td><td>2</td><td>3</td><td>Laboratory Techni...</td><td>4</td><td>Single</td><td>40563.0</td><td>851823.0</td><td>0</td><td>Y</td><td>No</td><td>49.0</td><td>2</td><td>4</td><td>80</td><td>2</td><td>14</td><td>6</td><td>1</td><td>8</td><td>1</td><td>3</td><td>1</td></tr>\n",
       "<tr><td>41</td><td>Yes</td><td>Travel_Rarely</td><td>1474.0</td><td>Sales</td><td>23</td><td>2</td><td>Life Sciences</td><td>1</td><td>917</td><td>2</td><td>Female</td><td>194.0</td><td>4</td><td>4</td><td>Human Resources</td><td>3</td><td>Divorced</td><td>45759.0</td><td>915180.0</td><td>7</td><td>Y</td><td>Yes</td><td>20.0</td><td>3</td><td>2</td><td>80</td><td>3</td><td>17</td><td>1</td><td>2</td><td>5</td><td>2</td><td>1</td><td>4</td></tr>\n",
       "<tr><td>39</td><td>Yes</td><td>Non-Travel</td><td>725.0</td><td>Sales</td><td>24</td><td>2</td><td>Technical Degree</td><td>1</td><td>918</td><td>4</td><td>Female</td><td>43.0</td><td>2</td><td>1</td><td>Sales Executive</td><td>3</td><td>Single</td><td>10342.0</td><td>41368.0</td><td>2</td><td>Y</td><td>No</td><td>43.0</td><td>2</td><td>3</td><td>80</td><td>1</td><td>23</td><td>1</td><td>1</td><td>6</td><td>4</td><td>3</td><td>3</td></tr>\n",
       "<tr><td>46</td><td>No</td><td>Travel_Frequently</td><td>105.0</td><td>Hardware</td><td>32</td><td>4</td><td>Marketing</td><td>1</td><td>919</td><td>1</td><td>Male</td><td>113.0</td><td>4</td><td>1</td><td>Healthcare Repres...</td><td>1</td><td>Divorced</td><td>5691.0</td><td>119511.0</td><td>6</td><td>Y</td><td>Yes</td><td>49.0</td><td>4</td><td>1</td><td>80</td><td>4</td><td>10</td><td>2</td><td>2</td><td>9</td><td>1</td><td>6</td><td>7</td></tr>\n",
       "<tr><td>55</td><td>No</td><td>Travel_Rarely</td><td>1141.0</td><td>Support</td><td>44</td><td>1</td><td>Medical</td><td>1</td><td>920</td><td>1</td><td>Male</td><td>41.0</td><td>4</td><td>5</td><td>Manufacturing Dir...</td><td>3</td><td>Single</td><td>39316.0</td><td>550424.0</td><td>4</td><td>Y</td><td>No</td><td>7.0</td><td>1</td><td>2</td><td>80</td><td>4</td><td>4</td><td>3</td><td>1</td><td>1</td><td>1</td><td>1</td><td>1</td></tr>\n",
       "<tr><td>31</td><td>No</td><td>Travel_Frequently</td><td>152.0</td><td>Software</td><td>39</td><td>2</td><td>Life Sciences</td><td>1</td><td>921</td><td>4</td><td>Male</td><td>50.0</td><td>3</td><td>3</td><td>Human Resources</td><td>1</td><td>Divorced</td><td>49062.0</td><td>834054.0</td><td>6</td><td>Y</td><td>No</td><td>37.0</td><td>4</td><td>4</td><td>80</td><td>2</td><td>6</td><td>2</td><td>2</td><td>2</td><td>1</td><td>1</td><td>1</td></tr>\n",
       "<tr><td>60</td><td>Yes</td><td>Travel_Frequently</td><td>553.0</td><td>Support</td><td>23</td><td>5</td><td>Other</td><td>1</td><td>922</td><td>1</td><td>Female</td><td>128.0</td><td>4</td><td>1</td><td>Manufacturing Dir...</td><td>2</td><td>Divorced</td><td>3049.0</td><td>51833.0</td><td>7</td><td>Y</td><td>No</td><td>12.0</td><td>4</td><td>3</td><td>80</td><td>4</td><td>7</td><td>2</td><td>4</td><td>1</td><td>1</td><td>1</td><td>1</td></tr>\n",
       "</table>\n",
       "only showing top 20 rows\n"
      ],
      "text/plain": [
       "+---+---------+-----------------+---------+--------------------+----------------+---------+----------------+-------------+--------------+-----------------------+------+----------+--------------+--------+--------------------+---------------+-------------+-------------+-----------+------------------+------+--------+-----------------+-----------------+------------------------+-------------+----------------+-----------------+---------------------+---------------+--------------+------------------+-----------------------+--------------------+\n",
       "|Age|Attrition|   BusinessTravel|DailyRate|          Department|DistanceFromHome|Education|  EducationField|EmployeeCount|EmployeeNumber|EnvironmentSatisfaction|Gender|HourlyRate|JobInvolvement|JobLevel|             JobRole|JobSatisfaction|MaritalStatus|MonthlyIncome|MonthlyRate|NumCompaniesWorked|Over18|OverTime|PercentSalaryHike|PerformanceRating|RelationshipSatisfaction|StandardHours|StockOptionLevel|TotalWorkingYears|TrainingTimesLastYear|WorkLifeBalance|YearsAtCompany|YearsInCurrentRole|YearsSinceLastPromotion|YearsWithCurrManager|\n",
       "+---+---------+-----------------+---------+--------------------+----------------+---------+----------------+-------------+--------------+-----------------------+------+----------+--------------+--------+--------------------+---------------+-------------+-------------+-----------+------------------+------+--------+-----------------+-----------------+------------------------+-------------+----------------+-----------------+---------------------+---------------+--------------+------------------+-----------------------+--------------------+\n",
       "| 42|      Yes|Travel_Frequently|    130.0|            Hardware|              35|        4|           Other|            1|           903|                      3|  Male|      91.0|             1|       4|Sales Representative|              4|       Single|      10890.0|    43560.0|                 1|     Y|     Yes|             36.0|                1|                       3|           80|               3|               30|                    2|              4|             9|                 9|                      2|                   3|\n",
       "| 47|       No|       Non-Travel|    460.0|               Sales|              39|        3|           Other|            1|           904|                      3|  Male|     108.0|             2|       5|Healthcare Repres...|              3|       Single|      40869.0|   899118.0|                 4|     Y|      No|              3.0|                4|                       4|           80|               3|               30|                    2|              1|            14|                 9|                     13|                   2|\n",
       "| 28|      Yes|    Travel_Rarely|    430.0|             Support|              20|        5|   Life Sciences|            1|           905|                      3|  Male|     144.0|             1|       1|Sales Representative|              4|      Married|      14550.0|   421950.0|                 4|     Y|     Yes|             43.0|                2|                       1|           80|               2|                7|                    1|              2|             4|                 4|                      1|                   3|\n",
       "| 28|      Yes|Travel_Frequently|   1486.0|     Human Resources|               5|        1| Human Resources|            1|           906|                      4|  Male|     176.0|             1|       3|Sales Representative|              3|       Single|      12777.0|    63885.0|                 4|     Y|     Yes|             25.0|                4|                       4|           80|               2|               31|                    5|              2|             5|                 4|                      4|                   1|\n",
       "| 28|      Yes|       Non-Travel|    966.0|     Human Resources|              30|        5|         Medical|            1|           907|                      1|  Male|     200.0|             2|       2|  Research Scientist|              4|     Divorced|      23833.0|   643491.0|                 0|     Y|     Yes|             34.0|                1|                       4|           80|               4|               29|                    5|              4|            17|                15|                      4|                  16|\n",
       "| 31|       No|       Non-Travel|   1129.0|     Human Resources|              21|        4| Human Resources|            1|           908|                      4|  Male|     116.0|             4|       4|   Research Director|              3|      Married|      37259.0|    37259.0|                 1|     Y|     Yes|              4.0|                2|                       1|           80|               3|               11|                    4|              4|             1|                 1|                      1|                   1|\n",
       "| 32|       No|       Non-Travel|    601.0|Research & Develo...|              32|        3|Technical Degree|            1|           909|                      2|  Male|      95.0|             2|       1|Healthcare Repres...|              4|      Married|      27389.0|   520391.0|                 8|     Y|      No|             21.0|                3|                       4|           80|               3|               11|                    4|              4|             4|                 3|                      4|                   4|\n",
       "| 38|       No|       Non-Travel|    205.0|Research & Develo...|              42|        1|           Other|            1|           910|                      4|  Male|     127.0|             4|       4|             Manager|              2|     Divorced|       5291.0|   153439.0|                 6|     Y|     Yes|             33.0|                4|                       4|           80|               1|               32|                    4|              1|             5|                 2|                      4|                   4|\n",
       "| 59|       No|       Non-Travel|    998.0|     Human Resources|              46|        5|           Other|            1|           911|                      2|Female|      35.0|             3|       2|           Developer|              2|      Married|      37358.0|   410938.0|                 5|     Y|     Yes|             27.0|                4|                       4|           80|               1|               17|                    3|              2|            14|                 4|                     10|                   8|\n",
       "| 29|      Yes|       Non-Travel|    143.0|               Sales|              45|        1|       Marketing|            1|           912|                      2|Female|      37.0|             4|       4|Healthcare Repres...|              3|     Divorced|      11865.0|   201705.0|                 2|     Y|     Yes|             42.0|                3|                       4|           80|               4|               33|                    5|              3|             6|                 1|                      3|                   5|\n",
       "| 23|       No|    Travel_Rarely|    768.0|Research & Develo...|              19|        5|         Medical|            1|           913|                      3|Female|     127.0|             2|       4|  Research Scientist|              3|      Married|      38367.0|   690606.0|                 7|     Y|     Yes|             14.0|                2|                       3|           80|               2|               11|                    2|              2|             7|                 3|                      2|                   3|\n",
       "| 58|       No|    Travel_Rarely|    755.0|             Support|              25|        5|         Medical|            1|           914|                      1|  Male|     162.0|             4|       4|             Manager|              2|       Single|      36536.0|   255752.0|                 2|     Y|     Yes|             23.0|                1|                       2|           80|               3|               16|                    4|              2|             9|                 1|                      3|                   2|\n",
       "| 59|       No|Travel_Frequently|   1026.0|     Human Resources|               8|        4|   Life Sciences|            1|           915|                      3|Female|      71.0|             3|       2|Laboratory Techni...|              1|      Married|      11727.0|    23454.0|                 6|     Y|     Yes|             33.0|                3|                       4|           80|               4|                3|                    5|              1|             3|                 2|                      3|                   3|\n",
       "| 41|       No|       Non-Travel|    522.0|               Sales|              26|        1|       Marketing|            1|           916|                      4|Female|      86.0|             2|       3|Laboratory Techni...|              4|       Single|      40563.0|   851823.0|                 0|     Y|      No|             49.0|                2|                       4|           80|               2|               14|                    6|              1|             8|                 1|                      3|                   1|\n",
       "| 41|      Yes|    Travel_Rarely|   1474.0|               Sales|              23|        2|   Life Sciences|            1|           917|                      2|Female|     194.0|             4|       4|     Human Resources|              3|     Divorced|      45759.0|   915180.0|                 7|     Y|     Yes|             20.0|                3|                       2|           80|               3|               17|                    1|              2|             5|                 2|                      1|                   4|\n",
       "| 39|      Yes|       Non-Travel|    725.0|               Sales|              24|        2|Technical Degree|            1|           918|                      4|Female|      43.0|             2|       1|     Sales Executive|              3|       Single|      10342.0|    41368.0|                 2|     Y|      No|             43.0|                2|                       3|           80|               1|               23|                    1|              1|             6|                 4|                      3|                   3|\n",
       "| 46|       No|Travel_Frequently|    105.0|            Hardware|              32|        4|       Marketing|            1|           919|                      1|  Male|     113.0|             4|       1|Healthcare Repres...|              1|     Divorced|       5691.0|   119511.0|                 6|     Y|     Yes|             49.0|                4|                       1|           80|               4|               10|                    2|              2|             9|                 1|                      6|                   7|\n",
       "| 55|       No|    Travel_Rarely|   1141.0|             Support|              44|        1|         Medical|            1|           920|                      1|  Male|      41.0|             4|       5|Manufacturing Dir...|              3|       Single|      39316.0|   550424.0|                 4|     Y|      No|              7.0|                1|                       2|           80|               4|                4|                    3|              1|             1|                 1|                      1|                   1|\n",
       "| 31|       No|Travel_Frequently|    152.0|            Software|              39|        2|   Life Sciences|            1|           921|                      4|  Male|      50.0|             3|       3|     Human Resources|              1|     Divorced|      49062.0|   834054.0|                 6|     Y|      No|             37.0|                4|                       4|           80|               2|                6|                    2|              2|             2|                 1|                      1|                   1|\n",
       "| 60|      Yes|Travel_Frequently|    553.0|             Support|              23|        5|           Other|            1|           922|                      1|Female|     128.0|             4|       1|Manufacturing Dir...|              2|     Divorced|       3049.0|    51833.0|                 7|     Y|      No|             12.0|                4|                       3|           80|               4|                7|                    2|              4|             1|                 1|                      1|                   1|\n",
       "+---+---------+-----------------+---------+--------------------+----------------+---------+----------------+-------------+--------------+-----------------------+------+----------+--------------+--------+--------------------+---------------+-------------+-------------+-----------+------------------+------+--------+-----------------+-----------------+------------------------+-------------+----------------+-----------------+---------------------+---------------+--------------+------------------+-----------------------+--------------------+\n",
       "only showing top 20 rows"
      ]
     },
     "execution_count": 8,
     "metadata": {},
     "output_type": "execute_result"
    }
   ],
   "source": [
    "HRA_Records"
   ]
  },
  {
   "cell_type": "markdown",
   "id": "94c87baa",
   "metadata": {},
   "source": [
    "### Drop Duplicates if any - from HRA_Records dataframe"
   ]
  },
  {
   "cell_type": "code",
   "execution_count": 10,
   "id": "0c416d76",
   "metadata": {},
   "outputs": [],
   "source": [
    "HRA_Records = HRA_Records.dropDuplicates()"
   ]
  },
  {
   "cell_type": "markdown",
   "id": "8a4a63e5",
   "metadata": {},
   "source": [
    "### Create a virtual table by the name \"HRA_Records\""
   ]
  },
  {
   "cell_type": "code",
   "execution_count": 11,
   "id": "39c9f9c3",
   "metadata": {},
   "outputs": [],
   "source": [
    "HRA_Records.createOrReplaceTempView(\"HRA_Records\")"
   ]
  },
  {
   "cell_type": "markdown",
   "id": "f7df56df",
   "metadata": {},
   "source": [
    "### The below query shows the total counts of \"Attrition\". Although there is no huge difference, but overall counts of Attrition is less "
   ]
  },
  {
   "cell_type": "code",
   "execution_count": 13,
   "id": "955a87c2",
   "metadata": {},
   "outputs": [],
   "source": [
    "Attrition_Counts = spark.sql('''SELECT Attrition, COUNT(*) AS Total_Counts FROM HRA_Records\n",
    "                                GROUP BY Attrition\n",
    "                                ORDER BY Attrition''')"
   ]
  },
  {
   "cell_type": "code",
   "execution_count": 14,
   "id": "d5186754",
   "metadata": {},
   "outputs": [
    {
     "data": {
      "text/html": [
       "<table border='1'>\n",
       "<tr><th>Attrition</th><th>Total_Counts</th></tr>\n",
       "<tr><td>No</td><td>2500474</td></tr>\n",
       "<tr><td>Yes</td><td>2499526</td></tr>\n",
       "</table>\n"
      ],
      "text/plain": [
       "+---------+------------+\n",
       "|Attrition|Total_Counts|\n",
       "+---------+------------+\n",
       "|       No|     2500474|\n",
       "|      Yes|     2499526|\n",
       "+---------+------------+"
      ]
     },
     "execution_count": 14,
     "metadata": {},
     "output_type": "execute_result"
    }
   ],
   "source": [
    "Attrition_Counts"
   ]
  },
  {
   "cell_type": "markdown",
   "id": "bf8197c0",
   "metadata": {},
   "source": [
    "### Attrition based on Departments - The below query shows that employees belonging to \"Support\" and \"Sales\" Department had higher attrition rate where \"Support\" team was dominant"
   ]
  },
  {
   "cell_type": "code",
   "execution_count": 30,
   "id": "94d50182",
   "metadata": {},
   "outputs": [],
   "source": [
    "Attrition_Dept_Counts = spark.sql('''SELECT Department, COUNT(*) AS Total_Counts FROM HRA_Records\n",
    "                                     WHERE Attrition = \"Yes\"\n",
    "                                     GROUP BY Department\n",
    "                                     ORDER BY Total_Counts DESC''')"
   ]
  },
  {
   "cell_type": "code",
   "execution_count": 31,
   "id": "c39b061b",
   "metadata": {},
   "outputs": [
    {
     "data": {
      "text/html": [
       "<table border='1'>\n",
       "<tr><th>Department</th><th>Total_Counts</th></tr>\n",
       "<tr><td>Support</td><td>417150</td></tr>\n",
       "<tr><td>Sales</td><td>417098</td></tr>\n",
       "<tr><td>Software</td><td>416729</td></tr>\n",
       "<tr><td>Research &amp; Develo...</td><td>416506</td></tr>\n",
       "<tr><td>Human Resources</td><td>416394</td></tr>\n",
       "<tr><td>Hardware</td><td>415649</td></tr>\n",
       "</table>\n"
      ],
      "text/plain": [
       "+--------------------+------------+\n",
       "|          Department|Total_Counts|\n",
       "+--------------------+------------+\n",
       "|             Support|      417150|\n",
       "|               Sales|      417098|\n",
       "|            Software|      416729|\n",
       "|Research & Develo...|      416506|\n",
       "|     Human Resources|      416394|\n",
       "|            Hardware|      415649|\n",
       "+--------------------+------------+"
      ]
     },
     "execution_count": 31,
     "metadata": {},
     "output_type": "execute_result"
    }
   ],
   "source": [
    "Attrition_Dept_Counts"
   ]
  },
  {
   "cell_type": "markdown",
   "id": "f3dd7cde",
   "metadata": {},
   "source": [
    "### We can see from the below query that \"Male\" have a higher attrition rate than the \"Females\" - in this dataset"
   ]
  },
  {
   "cell_type": "code",
   "execution_count": 48,
   "id": "cb3f6ec7",
   "metadata": {},
   "outputs": [],
   "source": [
    "Attrition_Gender = spark.sql('''SELECT Gender, COUNT(*) AS Total_Counts FROM HRA_Records\n",
    "                                WHERE Attrition = \"Yes\"\n",
    "                                GROUP BY Gender\n",
    "                                ORDER BY Total_Counts''')"
   ]
  },
  {
   "cell_type": "code",
   "execution_count": 49,
   "id": "51900701",
   "metadata": {},
   "outputs": [
    {
     "data": {
      "text/html": [
       "<table border='1'>\n",
       "<tr><th>Gender</th><th>Total_Counts</th></tr>\n",
       "<tr><td>Female</td><td>1248189</td></tr>\n",
       "<tr><td>Male</td><td>1251337</td></tr>\n",
       "</table>\n"
      ],
      "text/plain": [
       "+------+------------+\n",
       "|Gender|Total_Counts|\n",
       "+------+------------+\n",
       "|Female|     1248189|\n",
       "|  Male|     1251337|\n",
       "+------+------------+"
      ]
     },
     "execution_count": 49,
     "metadata": {},
     "output_type": "execute_result"
    }
   ],
   "source": [
    "Attrition_Gender"
   ]
  },
  {
   "cell_type": "markdown",
   "id": "6df1d84b",
   "metadata": {},
   "source": [
    "### Does personal life pave way for cossing career? In this case it sure does - Attrition rates is higest amongst the \"Divorced\" followed by \"Single / Unmarried\""
   ]
  },
  {
   "cell_type": "code",
   "execution_count": 50,
   "id": "15cc9514",
   "metadata": {},
   "outputs": [],
   "source": [
    "Attrition_MaritalStatus = spark.sql('''SELECT MaritalStatus, COUNT(*) AS Total_Counts FROM HRA_Records\n",
    "                                       WHERE Attrition = \"Yes\"\n",
    "                                       GROUP BY MaritalStatus\n",
    "                                       ORDER BY Total_Counts DESC''')"
   ]
  },
  {
   "cell_type": "code",
   "execution_count": 51,
   "id": "6fda74a8",
   "metadata": {},
   "outputs": [
    {
     "data": {
      "text/html": [
       "<table border='1'>\n",
       "<tr><th>MaritalStatus</th><th>Total_Counts</th></tr>\n",
       "<tr><td>Divorced</td><td>833908</td></tr>\n",
       "<tr><td>Single</td><td>833761</td></tr>\n",
       "<tr><td>Married</td><td>831857</td></tr>\n",
       "</table>\n"
      ],
      "text/plain": [
       "+-------------+------------+\n",
       "|MaritalStatus|Total_Counts|\n",
       "+-------------+------------+\n",
       "|     Divorced|      833908|\n",
       "|       Single|      833761|\n",
       "|      Married|      831857|\n",
       "+-------------+------------+"
      ]
     },
     "execution_count": 51,
     "metadata": {},
     "output_type": "execute_result"
    }
   ],
   "source": [
    "Attrition_MaritalStatus"
   ]
  },
  {
   "cell_type": "markdown",
   "id": "2b81e7f5",
   "metadata": {},
   "source": [
    "### Amongst the given job roles, the Job Satisfaction appears to be highest among \"Research Director\", \"Sales Representative\" and \"Developer\""
   ]
  },
  {
   "cell_type": "code",
   "execution_count": 52,
   "id": "e807b182",
   "metadata": {},
   "outputs": [],
   "source": [
    "Attrition_JobRole = spark.sql('''SELECT JobRole, ROUND(AVG(JobSatisfaction),0) AS Total_Avg FROM HRA_Records\n",
    "                                 WHERE Attrition = \"Yes\"\n",
    "                                 GROUP BY JobRole\n",
    "                                 ORDER BY Total_Avg DESC''')"
   ]
  },
  {
   "cell_type": "code",
   "execution_count": 53,
   "id": "791b6f3f",
   "metadata": {},
   "outputs": [
    {
     "data": {
      "text/html": [
       "<table border='1'>\n",
       "<tr><th>JobRole</th><th>Total_Avg</th></tr>\n",
       "<tr><td>Research Director</td><td>3.0</td></tr>\n",
       "<tr><td>Sales Representative</td><td>3.0</td></tr>\n",
       "<tr><td>Developer</td><td>3.0</td></tr>\n",
       "<tr><td>Sales Executive</td><td>2.0</td></tr>\n",
       "<tr><td>Manufacturing Dir...</td><td>2.0</td></tr>\n",
       "<tr><td>Laboratory Techni...</td><td>2.0</td></tr>\n",
       "<tr><td>Research Scientist</td><td>2.0</td></tr>\n",
       "<tr><td>Human Resources</td><td>2.0</td></tr>\n",
       "<tr><td>Healthcare Repres...</td><td>2.0</td></tr>\n",
       "<tr><td>Manager</td><td>2.0</td></tr>\n",
       "</table>\n"
      ],
      "text/plain": [
       "+--------------------+---------+\n",
       "|             JobRole|Total_Avg|\n",
       "+--------------------+---------+\n",
       "|   Research Director|      3.0|\n",
       "|Sales Representative|      3.0|\n",
       "|           Developer|      3.0|\n",
       "|     Sales Executive|      2.0|\n",
       "|Manufacturing Dir...|      2.0|\n",
       "|Laboratory Techni...|      2.0|\n",
       "|  Research Scientist|      2.0|\n",
       "|     Human Resources|      2.0|\n",
       "|Healthcare Repres...|      2.0|\n",
       "|             Manager|      2.0|\n",
       "+--------------------+---------+"
      ]
     },
     "execution_count": 53,
     "metadata": {},
     "output_type": "execute_result"
    }
   ],
   "source": [
    "Attrition_JobRole"
   ]
  },
  {
   "cell_type": "markdown",
   "id": "a5238801",
   "metadata": {},
   "source": [
    "### We know from the previous queries that \"Support\" team has highest attrition. The below query shows, the internal Support staff that do not travel att all have higher rate of attrition compared to the one's who may travel frequently or even rarely."
   ]
  },
  {
   "cell_type": "code",
   "execution_count": 32,
   "id": "060e3da9",
   "metadata": {},
   "outputs": [],
   "source": [
    "Attrition_BusinessTravel = spark.sql('''SELECT Department, BusinessTravel, COUNT(*) AS Total_Counts FROM HRA_Records\n",
    "                                        WHERE Department = \"Support\" AND Attrition = \"Yes\"\n",
    "                                        GROUP BY Department, BusinessTravel\n",
    "                                        ORDER BY Total_Counts DESC''')"
   ]
  },
  {
   "cell_type": "code",
   "execution_count": 33,
   "id": "1bfc63a5",
   "metadata": {},
   "outputs": [
    {
     "data": {
      "text/html": [
       "<table border='1'>\n",
       "<tr><th>Department</th><th>BusinessTravel</th><th>Total_Counts</th></tr>\n",
       "<tr><td>Support</td><td>Non-Travel</td><td>139307</td></tr>\n",
       "<tr><td>Support</td><td>Travel_Frequently</td><td>138978</td></tr>\n",
       "<tr><td>Support</td><td>Travel_Rarely</td><td>138865</td></tr>\n",
       "</table>\n"
      ],
      "text/plain": [
       "+----------+-----------------+------------+\n",
       "|Department|   BusinessTravel|Total_Counts|\n",
       "+----------+-----------------+------------+\n",
       "|   Support|       Non-Travel|      139307|\n",
       "|   Support|Travel_Frequently|      138978|\n",
       "|   Support|    Travel_Rarely|      138865|\n",
       "+----------+-----------------+------------+"
      ]
     },
     "execution_count": 33,
     "metadata": {},
     "output_type": "execute_result"
    }
   ],
   "source": [
    "Attrition_BusinessTravel"
   ]
  },
  {
   "cell_type": "code",
   "execution_count": 34,
   "id": "fc3a3ae0",
   "metadata": {},
   "outputs": [],
   "source": [
    "Attrition_Supp_JobLevel = spark.sql('''SELECT BusinessTravel, AVG(JobLevel) as JobLevel, COUNT(*) AS Total_Counts FROM HRA_Records\n",
    "                                        WHERE Department = \"Support\" AND Attrition = \"Yes\"\n",
    "                                        GROUP BY BusinessTravel\n",
    "                                        ORDER BY Total_Counts DESC''')"
   ]
  },
  {
   "cell_type": "markdown",
   "id": "250c54f3",
   "metadata": {},
   "source": [
    "### In this dataaset, JobLevel is between 1 to 4, where 1 being junior most to 4 being senior most. The query below shows, the attrition is majorly among the Senior level Support team employees who do not travel at all."
   ]
  },
  {
   "cell_type": "code",
   "execution_count": 35,
   "id": "e14916e6",
   "metadata": {},
   "outputs": [
    {
     "data": {
      "text/html": [
       "<table border='1'>\n",
       "<tr><th>BusinessTravel</th><th>JobLevel</th><th>Total_Counts</th></tr>\n",
       "<tr><td>Non-Travel</td><td>3.008664316940283</td><td>139307</td></tr>\n",
       "<tr><td>Travel_Frequently</td><td>3.0001942753529334</td><td>138978</td></tr>\n",
       "<tr><td>Travel_Rarely</td><td>2.9930508047384152</td><td>138865</td></tr>\n",
       "</table>\n"
      ],
      "text/plain": [
       "+-----------------+------------------+------------+\n",
       "|   BusinessTravel|          JobLevel|Total_Counts|\n",
       "+-----------------+------------------+------------+\n",
       "|       Non-Travel| 3.008664316940283|      139307|\n",
       "|Travel_Frequently|3.0001942753529334|      138978|\n",
       "|    Travel_Rarely|2.9930508047384152|      138865|\n",
       "+-----------------+------------------+------------+"
      ]
     },
     "execution_count": 35,
     "metadata": {},
     "output_type": "execute_result"
    }
   ],
   "source": [
    "Attrition_Supp_JobLevel"
   ]
  },
  {
   "cell_type": "markdown",
   "id": "1f62620b",
   "metadata": {},
   "source": [
    "### The following query, gives us teh relationship between the employess that have left whether they worked overtime or not. And the max count of these employees DID NOT work overtime."
   ]
  },
  {
   "cell_type": "code",
   "execution_count": 56,
   "id": "4f97a892",
   "metadata": {},
   "outputs": [],
   "source": [
    "Attrition_OverTime = spark.sql('''SELECT OverTime, COUNT(*) as Total_Counts FROM HRA_Records\n",
    "                                  WHERE Attrition = \"Yes\"\n",
    "                                  GROUP BY OverTime\n",
    "                                  ORDER BY Total_Counts DESC''')"
   ]
  },
  {
   "cell_type": "code",
   "execution_count": 57,
   "id": "a82c1595",
   "metadata": {},
   "outputs": [
    {
     "data": {
      "text/html": [
       "<table border='1'>\n",
       "<tr><th>OverTime</th><th>Total_Counts</th></tr>\n",
       "<tr><td>No</td><td>1250862</td></tr>\n",
       "<tr><td>Yes</td><td>1248664</td></tr>\n",
       "</table>\n"
      ],
      "text/plain": [
       "+--------+------------+\n",
       "|OverTime|Total_Counts|\n",
       "+--------+------------+\n",
       "|      No|     1250862|\n",
       "|     Yes|     1248664|\n",
       "+--------+------------+"
      ]
     },
     "execution_count": 57,
     "metadata": {},
     "output_type": "execute_result"
    }
   ],
   "source": [
    "Attrition_OverTime"
   ]
  },
  {
   "cell_type": "markdown",
   "id": "24843cbe",
   "metadata": {},
   "source": [
    "### The below query shows, employees with highest number of training have highest attrition. This show's training and development doesn't necessarily help retaining employees"
   ]
  },
  {
   "cell_type": "code",
   "execution_count": 38,
   "id": "13e487c2",
   "metadata": {},
   "outputs": [],
   "source": [
    "Attrition_TrainingTimesLastYear = spark.sql('''SELECT TrainingTimesLastYear, COUNT(*) as Total_Counts FROM HRA_Records\n",
    "                                               WHERE Attrition = \"Yes\"\n",
    "                                               GROUP BY TrainingTimesLastYear\n",
    "                                               ORDER BY Total_Counts DESC''')"
   ]
  },
  {
   "cell_type": "code",
   "execution_count": 39,
   "id": "79edd395",
   "metadata": {},
   "outputs": [
    {
     "data": {
      "text/html": [
       "<table border='1'>\n",
       "<tr><th>TrainingTimesLastYear</th><th>Total_Counts</th></tr>\n",
       "<tr><td>5</td><td>416883</td></tr>\n",
       "<tr><td>2</td><td>416858</td></tr>\n",
       "<tr><td>1</td><td>416785</td></tr>\n",
       "<tr><td>6</td><td>416703</td></tr>\n",
       "<tr><td>4</td><td>416625</td></tr>\n",
       "<tr><td>3</td><td>415672</td></tr>\n",
       "</table>\n"
      ],
      "text/plain": [
       "+---------------------+------------+\n",
       "|TrainingTimesLastYear|Total_Counts|\n",
       "+---------------------+------------+\n",
       "|                    5|      416883|\n",
       "|                    2|      416858|\n",
       "|                    1|      416785|\n",
       "|                    6|      416703|\n",
       "|                    4|      416625|\n",
       "|                    3|      415672|\n",
       "+---------------------+------------+"
      ]
     },
     "execution_count": 39,
     "metadata": {},
     "output_type": "execute_result"
    }
   ],
   "source": [
    "Attrition_TrainingTimesLastYear"
   ]
  },
  {
   "cell_type": "markdown",
   "id": "ed4a891b",
   "metadata": {},
   "source": [
    "### The below query shows, employees with higher education have less number of attrition compared to the employees at level 1 education."
   ]
  },
  {
   "cell_type": "code",
   "execution_count": 40,
   "id": "8754fd49",
   "metadata": {},
   "outputs": [],
   "source": [
    "Attrition_Education = spark.sql('''SELECT Education, COUNT(*) as Total_Counts FROM HRA_Records\n",
    "                                   WHERE Attrition = \"Yes\"\n",
    "                                   GROUP BY Education\n",
    "                                   ORDER BY Total_Counts DESC''')"
   ]
  },
  {
   "cell_type": "code",
   "execution_count": 41,
   "id": "32f19221",
   "metadata": {},
   "outputs": [
    {
     "data": {
      "text/html": [
       "<table border='1'>\n",
       "<tr><th>Education</th><th>Total_Counts</th></tr>\n",
       "<tr><td>1</td><td>500415</td></tr>\n",
       "<tr><td>3</td><td>500162</td></tr>\n",
       "<tr><td>2</td><td>499985</td></tr>\n",
       "<tr><td>4</td><td>499715</td></tr>\n",
       "<tr><td>5</td><td>499249</td></tr>\n",
       "</table>\n"
      ],
      "text/plain": [
       "+---------+------------+\n",
       "|Education|Total_Counts|\n",
       "+---------+------------+\n",
       "|        1|      500415|\n",
       "|        3|      500162|\n",
       "|        2|      499985|\n",
       "|        4|      499715|\n",
       "|        5|      499249|\n",
       "+---------+------------+"
      ]
     },
     "execution_count": 41,
     "metadata": {},
     "output_type": "execute_result"
    }
   ],
   "source": [
    "Attrition_Education"
   ]
  },
  {
   "cell_type": "markdown",
   "id": "4539c87f",
   "metadata": {},
   "source": [
    "### The below query shows, the average hike is highest for \"Research & Development\" Department. Although other departments have a similar hike, \"Research & Development\" avg hikes are slightly higher."
   ]
  },
  {
   "cell_type": "code",
   "execution_count": 42,
   "id": "901512d7",
   "metadata": {},
   "outputs": [],
   "source": [
    "Attrition_Department_Hike = spark.sql('''SELECT Department, AVG(PercentSalaryHike) as Total_Counts FROM HRA_Records\n",
    "                                         GROUP BY Department\n",
    "                                         ORDER BY Total_Counts DESC''')\n"
   ]
  },
  {
   "cell_type": "code",
   "execution_count": 43,
   "id": "64521673",
   "metadata": {},
   "outputs": [
    {
     "data": {
      "text/html": [
       "<table border='1'>\n",
       "<tr><th>Department</th><th>Total_Counts</th></tr>\n",
       "<tr><td>Research &amp; Develo...</td><td>24.519495835217874</td></tr>\n",
       "<tr><td>Support</td><td>24.496678479980332</td></tr>\n",
       "<tr><td>Human Resources</td><td>24.493827175311583</td></tr>\n",
       "<tr><td>Sales</td><td>24.49217571429086</td></tr>\n",
       "<tr><td>Software</td><td>24.49050959715114</td></tr>\n",
       "<tr><td>Hardware</td><td>24.48624407517471</td></tr>\n",
       "</table>\n"
      ],
      "text/plain": [
       "+--------------------+------------------+\n",
       "|          Department|      Total_Counts|\n",
       "+--------------------+------------------+\n",
       "|Research & Develo...|24.519495835217874|\n",
       "|             Support|24.496678479980332|\n",
       "|     Human Resources|24.493827175311583|\n",
       "|               Sales| 24.49217571429086|\n",
       "|            Software| 24.49050959715114|\n",
       "|            Hardware| 24.48624407517471|\n",
       "+--------------------+------------------+"
      ]
     },
     "execution_count": 43,
     "metadata": {},
     "output_type": "execute_result"
    }
   ],
   "source": [
    "Attrition_Department_Hike"
   ]
  },
  {
   "cell_type": "markdown",
   "id": "f9c7f9df",
   "metadata": {},
   "source": [
    "### The below job roles fall under department \"Research & Development\" and \"Sales Executive\" job role get's a higher hike percent compared to other roles"
   ]
  },
  {
   "cell_type": "code",
   "execution_count": 46,
   "id": "7e169914",
   "metadata": {},
   "outputs": [],
   "source": [
    "Attrition_JobRole_Hike = spark.sql('''SELECT JobRole, AVG(PercentSalaryHike) as Total_Counts FROM HRA_Records\n",
    "                                      WHERE Department = 'Research & Development'\n",
    "                                      GROUP BY JobRole\n",
    "                                      ORDER BY Total_Counts DESC''')"
   ]
  },
  {
   "cell_type": "code",
   "execution_count": 47,
   "id": "071b5039",
   "metadata": {},
   "outputs": [
    {
     "data": {
      "text/html": [
       "<table border='1'>\n",
       "<tr><th>JobRole</th><th>Total_Counts</th></tr>\n",
       "<tr><td>Sales Executive</td><td>24.592842044925305</td></tr>\n",
       "<tr><td>Human Resources</td><td>24.579978367984616</td></tr>\n",
       "<tr><td>Healthcare Repres...</td><td>24.55573410723494</td></tr>\n",
       "<tr><td>Research Director</td><td>24.540948662986338</td></tr>\n",
       "<tr><td>Developer</td><td>24.534868169659916</td></tr>\n",
       "<tr><td>Manager</td><td>24.53121690574757</td></tr>\n",
       "<tr><td>Manufacturing Dir...</td><td>24.4751189235175</td></tr>\n",
       "<tr><td>Sales Representative</td><td>24.4700189707754</td></tr>\n",
       "<tr><td>Research Scientist</td><td>24.4696898637517</td></tr>\n",
       "<tr><td>Laboratory Techni...</td><td>24.44375195891699</td></tr>\n",
       "</table>\n"
      ],
      "text/plain": [
       "+--------------------+------------------+\n",
       "|             JobRole|      Total_Counts|\n",
       "+--------------------+------------------+\n",
       "|     Sales Executive|24.592842044925305|\n",
       "|     Human Resources|24.579978367984616|\n",
       "|Healthcare Repres...| 24.55573410723494|\n",
       "|   Research Director|24.540948662986338|\n",
       "|           Developer|24.534868169659916|\n",
       "|             Manager| 24.53121690574757|\n",
       "|Manufacturing Dir...|  24.4751189235175|\n",
       "|Sales Representative|  24.4700189707754|\n",
       "|  Research Scientist|  24.4696898637517|\n",
       "|Laboratory Techni...| 24.44375195891699|\n",
       "+--------------------+------------------+"
      ]
     },
     "execution_count": 47,
     "metadata": {},
     "output_type": "execute_result"
    }
   ],
   "source": [
    "Attrition_JobRole_Hike"
   ]
  }
 ],
 "metadata": {
  "kernelspec": {
   "display_name": "Python 3 (ipykernel)",
   "language": "python",
   "name": "python3"
  },
  "language_info": {
   "codemirror_mode": {
    "name": "ipython",
    "version": 3
   },
   "file_extension": ".py",
   "mimetype": "text/x-python",
   "name": "python",
   "nbconvert_exporter": "python",
   "pygments_lexer": "ipython3",
   "version": "3.9.0"
  }
 },
 "nbformat": 4,
 "nbformat_minor": 5
}
